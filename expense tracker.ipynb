{
 "cells": [
  {
   "cell_type": "code",
   "execution_count": 9,
   "metadata": {},
   "outputs": [],
   "source": [
    "import tkinter                   #Tkinter is the standard GUI library for Python\n",
    "import tkcalendar                #module that provides the Calendar and DateEntry widgets\n",
    "from tkinter import *            #imports every exposed object in Tkinter into your current namespace\n",
    "from tkinter import ttk          #Button, Entry, Frame, Label\n",
    "from tkinter import messagebox   #used to display message boxes\n",
    "from tkinter.ttk import Notebook #used for controlling tabs (navigating)\n",
    "from tkcalendar import DateEntry #use to take the entries or data\n"
   ]
  },
  {
   "cell_type": "code",
   "execution_count": 10,
   "metadata": {},
   "outputs": [
    {
     "name": "stdout",
     "output_type": "stream",
     "text": [
      "['10/24/20', 'car wash', 600]\n",
      "['10/24/20', 'saloon', 350]\n"
     ]
    }
   ],
   "source": [
    "def AddExpenditure(): # function which will collect data into frame together\n",
    "    a=EDate.get()       #get we use to get the values\n",
    "    b=Title.get()\n",
    "    c=Expenditure.get()\n",
    "    data=[a,b,c]\n",
    "    print(data)\n",
    "    TVExpenditure.insert('','end',values=data) #TreeView allows us to do is to build a\n",
    "                                               #tree-like structure and insert items accordingly\n",
    "GUI=Tk()\n",
    "\n",
    "GUI.title('Expense Tracker')\n",
    "GUI.geometry('500x500')\n",
    "#maximize window\n",
    "\n",
    " \n",
    "Tab=Notebook(GUI)                               #Notebook widget manages a collection of windows and\n",
    "                                                #displays one at a time\n",
    "s = ttk.Style()\n",
    "s.configure('TNotebook.Tab', font=('fangsongti','22','bold') )\n",
    "\n",
    "F1=Frame(Tab,width=800,height=500,bg='gray17')\n",
    "\n",
    "\n",
    "Tab.add(F1,text='ExpenseTrack')\n",
    "\n",
    "#Tab.add(F2,text='Income')\n",
    "\n",
    "Tab.pack(fill=BOTH,expand=1)#https://www.geeksforgeeks.org/creating-tabbed-widget-with-python-tkinter/\n",
    "\n",
    "#---------row 0----------------\n",
    "LDate=ttk.Label(F1,text='Date',font=(None,18))            #L is used for label\n",
    "LDate.grid(row=0,column=0,padx=35,pady=35,sticky='w')\n",
    "\n",
    "#use data picker\n",
    "EDate= DateEntry(F1,width=19,background='blue',foreground='blue',font=(None,18))\n",
    "EDate.grid(row=0,column=1,padx=35,pady=35,sticky='w')\n",
    "\n",
    "#---------row 1----------------\n",
    "LTitle=ttk.Label(F1,text='Item',font=(None,18))\n",
    "LTitle.grid(row=1,column=0,padx=35,pady=35,sticky='w')\n",
    "\n",
    "Title=StringVar()\n",
    "ETitle=ttk.Entry(F1,textvariable=Title,font=(None,18))\n",
    "ETitle.grid(row=1,column=1,padx=30,pady=30,sticky='w')\n",
    "\n",
    "\n",
    "#---------row 2----------------\n",
    "LExpenditure=ttk.Label(F1,text='Expenditure',font=(None,18))\n",
    "LExpenditure.grid(row=2,column=0,padx=35,pady=35,sticky='w')\n",
    "\n",
    "Expenditure=IntVar()\n",
    "ETitle=ttk.Entry(F1,textvariable=Expenditure,font=(None,18))\n",
    "ETitle.grid(row=2,column=1,padx=30,pady=30,sticky='w')\n",
    "#------------row 3--------------\n",
    "BF1Add=ttk.Button(F1,text='ADD',command=AddExpenditure)      #b used for button \n",
    "BF1Add.grid(row=3,column=1,padx=5,pady=5,sticky='w',ipadx=10,ipady=10)\n",
    "#-----------tree view-----------                             \n",
    "TVList=['Date','Item','Expenditure']\n",
    "TVExpenditure=ttk.Treeview(F1,column=TVList, show='headings',height=18)\n",
    "for i in TVList:\n",
    "    TVExpenditure.heading(i,text=i.title())\n",
    "TVExpenditure.grid(row=4,column=0,padx=5,pady=5,sticky='w',columnspan=3)\n",
    "\n",
    "GUI.mainloop()#mainloop() is an infinite loop used to run the application"
   ]
  },
  {
   "cell_type": "code",
   "execution_count": null,
   "metadata": {},
   "outputs": [],
   "source": []
  },
  {
   "cell_type": "code",
   "execution_count": null,
   "metadata": {},
   "outputs": [],
   "source": []
  }
 ],
 "metadata": {
  "kernelspec": {
   "display_name": "Python 3",
   "language": "python",
   "name": "python3"
  },
  "language_info": {
   "codemirror_mode": {
    "name": "ipython",
    "version": 3
   },
   "file_extension": ".py",
   "mimetype": "text/x-python",
   "name": "python",
   "nbconvert_exporter": "python",
   "pygments_lexer": "ipython3",
   "version": "3.7.6"
  }
 },
 "nbformat": 4,
 "nbformat_minor": 4
}
